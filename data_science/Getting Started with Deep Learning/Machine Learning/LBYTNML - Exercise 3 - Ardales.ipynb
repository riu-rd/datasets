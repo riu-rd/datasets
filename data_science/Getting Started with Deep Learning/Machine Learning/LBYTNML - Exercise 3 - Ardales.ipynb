{
  "cells": [
    {
      "cell_type": "markdown",
      "metadata": {},
      "source": [
        "## Darius Vincent Ardales\n",
        "### LBYTNML - S11\n",
        "### Exercise 3: Model Compression"
      ]
    },
    {
      "cell_type": "markdown",
      "metadata": {
        "id": "TWPELA3e6vMG"
      },
      "source": [
        "# (BETA) STATIC QUANTIZATION WITH EAGER MODE IN PYTORCH"
      ]
    },
    {
      "cell_type": "markdown",
      "metadata": {},
      "source": [
        "Author: <ins>Raghuraman Krishnamoorthi</ins> Edited by: <ins>Seth Weidman, Jerry Zhang</ins>\n",
        "\n",
        "This tutorial shows how to do post-training static quantization, as well as illustrating two more advanced techniques - per-channel quantization and quantization-aware training - to further improve the model’s accuracy. Note that quantization is currently only supported for CPUs, so we will not be utilizing GPUs / CUDA in this tutorial. By the end of this tutorial, you will see how quantization in PyTorch can result in significant decreases in model size while increasing speed. Furthermore, you’ll see how to easily apply some advanced quantization techniques shown here so that your quantized models take much less of an accuracy hit than they would otherwise. Warning: we use a lot of boilerplate code from other PyTorch repos to, for example, define the MobileNetV2 model architecture, define data loaders, and so on. We of course encourage you to read it; but if you want to get to the quantization features, feel free to skip to the “4. Post-training static quantization” section. We’ll start by doing the necessary imports:"
      ]
    },
    {
      "cell_type": "code",
      "execution_count": 1,
      "metadata": {},
      "outputs": [
        {
          "name": "stdout",
          "output_type": "stream",
          "text": [
            "Requirement already satisfied: torch in c:\\users\\dariu\\appdata\\local\\programs\\python\\python311\\lib\\site-packages (2.1.0)\n",
            "Requirement already satisfied: filelock in c:\\users\\dariu\\appdata\\local\\programs\\python\\python311\\lib\\site-packages (from torch) (3.12.4)\n",
            "Requirement already satisfied: typing-extensions in c:\\users\\dariu\\appdata\\local\\programs\\python\\python311\\lib\\site-packages (from torch) (4.8.0)\n",
            "Requirement already satisfied: sympy in c:\\users\\dariu\\appdata\\local\\programs\\python\\python311\\lib\\site-packages (from torch) (1.12)\n",
            "Requirement already satisfied: networkx in c:\\users\\dariu\\appdata\\local\\programs\\python\\python311\\lib\\site-packages (from torch) (3.1)\n",
            "Requirement already satisfied: jinja2 in c:\\users\\dariu\\appdata\\local\\programs\\python\\python311\\lib\\site-packages (from torch) (3.1.2)\n",
            "Requirement already satisfied: fsspec in c:\\users\\dariu\\appdata\\local\\programs\\python\\python311\\lib\\site-packages (from torch) (2023.9.2)\n",
            "Requirement already satisfied: MarkupSafe>=2.0 in c:\\users\\dariu\\appdata\\local\\programs\\python\\python311\\lib\\site-packages (from jinja2->torch) (2.1.3)\n",
            "Requirement already satisfied: mpmath>=0.19 in c:\\users\\dariu\\appdata\\local\\programs\\python\\python311\\lib\\site-packages (from sympy->torch) (1.3.0)\n",
            "Note: you may need to restart the kernel to use updated packages.\n",
            "Requirement already satisfied: torchvision in c:\\users\\dariu\\appdata\\local\\programs\\python\\python311\\lib\\site-packages (0.16.0)Note: you may need to restart the kernel to use updated packages.\n",
            "\n",
            "Requirement already satisfied: numpy in c:\\users\\dariu\\appdata\\local\\programs\\python\\python311\\lib\\site-packages (from torchvision) (1.26.0)\n",
            "Requirement already satisfied: requests in c:\\users\\dariu\\appdata\\local\\programs\\python\\python311\\lib\\site-packages (from torchvision) (2.31.0)\n",
            "Requirement already satisfied: torch==2.1.0 in c:\\users\\dariu\\appdata\\local\\programs\\python\\python311\\lib\\site-packages (from torchvision) (2.1.0)\n",
            "Requirement already satisfied: pillow!=8.3.*,>=5.3.0 in c:\\users\\dariu\\appdata\\local\\programs\\python\\python311\\lib\\site-packages (from torchvision) (10.0.1)\n",
            "Requirement already satisfied: filelock in c:\\users\\dariu\\appdata\\local\\programs\\python\\python311\\lib\\site-packages (from torch==2.1.0->torchvision) (3.12.4)\n",
            "Requirement already satisfied: typing-extensions in c:\\users\\dariu\\appdata\\local\\programs\\python\\python311\\lib\\site-packages (from torch==2.1.0->torchvision) (4.8.0)\n",
            "Requirement already satisfied: sympy in c:\\users\\dariu\\appdata\\local\\programs\\python\\python311\\lib\\site-packages (from torch==2.1.0->torchvision) (1.12)\n",
            "Requirement already satisfied: networkx in c:\\users\\dariu\\appdata\\local\\programs\\python\\python311\\lib\\site-packages (from torch==2.1.0->torchvision) (3.1)\n",
            "Requirement already satisfied: jinja2 in c:\\users\\dariu\\appdata\\local\\programs\\python\\python311\\lib\\site-packages (from torch==2.1.0->torchvision) (3.1.2)\n",
            "Requirement already satisfied: fsspec in c:\\users\\dariu\\appdata\\local\\programs\\python\\python311\\lib\\site-packages (from torch==2.1.0->torchvision) (2023.9.2)\n",
            "Requirement already satisfied: charset-normalizer<4,>=2 in c:\\users\\dariu\\appdata\\local\\programs\\python\\python311\\lib\\site-packages (from requests->torchvision) (3.3.0)\n",
            "Requirement already satisfied: idna<4,>=2.5 in c:\\users\\dariu\\appdata\\local\\programs\\python\\python311\\lib\\site-packages (from requests->torchvision) (3.4)\n",
            "Requirement already satisfied: urllib3<3,>=1.21.1 in c:\\users\\dariu\\appdata\\local\\programs\\python\\python311\\lib\\site-packages (from requests->torchvision) (2.0.6)\n",
            "Requirement already satisfied: certifi>=2017.4.17 in c:\\users\\dariu\\appdata\\local\\programs\\python\\python311\\lib\\site-packages (from requests->torchvision) (2023.7.22)\n",
            "Requirement already satisfied: MarkupSafe>=2.0 in c:\\users\\dariu\\appdata\\local\\programs\\python\\python311\\lib\\site-packages (from jinja2->torch==2.1.0->torchvision) (2.1.3)\n",
            "Requirement already satisfied: mpmath>=0.19 in c:\\users\\dariu\\appdata\\local\\programs\\python\\python311\\lib\\site-packages (from sympy->torch==2.1.0->torchvision) (1.3.0)\n",
            "Requirement already satisfied: scipy in c:\\users\\dariu\\appdata\\local\\programs\\python\\python311\\lib\\site-packages (1.11.3)\n",
            "Requirement already satisfied: numpy<1.28.0,>=1.21.6 in c:\\users\\dariu\\appdata\\local\\programs\\python\\python311\\lib\\site-packages (from scipy) (1.26.0)\n",
            "Note: you may need to restart the kernel to use updated packages.\n"
          ]
        }
      ],
      "source": [
        "%pip install torch\n",
        "%pip install torchvision\n",
        "%pip install scipy"
      ]
    },
    {
      "cell_type": "code",
      "execution_count": 2,
      "metadata": {
        "colab": {
          "base_uri": "https://localhost:8080/"
        },
        "id": "xENzyfE8jB_R",
        "outputId": "3471be55-2392-4717-e90f-2b656bb6ee12"
      },
      "outputs": [
        {
          "data": {
            "text/plain": [
              "<torch._C.Generator at 0x1dab24665f0>"
            ]
          },
          "execution_count": 2,
          "metadata": {},
          "output_type": "execute_result"
        }
      ],
      "source": [
        "import os\n",
        "import sys\n",
        "import time\n",
        "import numpy as np\n",
        "\n",
        "import torch\n",
        "import torch.nn as nn\n",
        "from torch.utils.data import DataLoader\n",
        "\n",
        "import torchvision\n",
        "from torchvision import datasets\n",
        "import torchvision.transforms as transforms\n",
        "\n",
        "# Set up warnings\n",
        "import warnings\n",
        "warnings.filterwarnings(\n",
        "    action='ignore',\n",
        "    category=DeprecationWarning,\n",
        "    module=r'.*'\n",
        ")\n",
        "warnings.filterwarnings(\n",
        "    action='default',\n",
        "    module=r'torch.ao.quantization'\n",
        ")\n",
        "\n",
        "# Specify random seed for repeatable results\n",
        "torch.manual_seed(191009)"
      ]
    },
    {
      "cell_type": "markdown",
      "metadata": {
        "id": "KptPnwE865MK"
      },
      "source": [
        "## 1. Model architecture"
      ]
    },
    {
      "cell_type": "markdown",
      "metadata": {},
      "source": [
        "We first define the MobileNetV2 model architecture, with several notable modifications to enable quantization:\n",
        "- Replacing addition with nn.quantized.FloatFunctional\n",
        "- Insert QuantStub and DeQuantStub at the beginning and end of the network.\n",
        "- Replace ReLU6 with ReLU"
      ]
    },
    {
      "cell_type": "code",
      "execution_count": 3,
      "metadata": {
        "id": "mdsVhKIH6qrt"
      },
      "outputs": [],
      "source": [
        "from torch.ao.quantization import QuantStub, DeQuantStub\n",
        "\n",
        "def _make_divisible(v, divisor, min_value=None):\n",
        "    \"\"\"\n",
        "    This function is taken from the original tf repo.\n",
        "    It ensures that all layers have a channel number that is divisible by 8\n",
        "    It can be seen here:\n",
        "    https://github.com/tensorflow/models/blob/master/research/slim/nets/mobilenet/mobilenet.py\n",
        "    :param v:\n",
        "    :param divisor:\n",
        "    :param min_value:\n",
        "    :return:\n",
        "    \"\"\"\n",
        "    if min_value is None:\n",
        "        min_value = divisor\n",
        "    new_v = max(min_value, int(v + divisor / 2) // divisor * divisor)\n",
        "    # Make sure that round down does not go down by more than 10%.\n",
        "    if new_v < 0.9 * v:\n",
        "        new_v += divisor\n",
        "    return new_v\n",
        "\n",
        "\n",
        "class ConvBNReLU(nn.Sequential):\n",
        "    def __init__(self, in_planes, out_planes, kernel_size=3, stride=1, groups=1):\n",
        "        padding = (kernel_size - 1) // 2\n",
        "        super(ConvBNReLU, self).__init__(\n",
        "            nn.Conv2d(in_planes, out_planes, kernel_size, stride, padding, groups=groups, bias=False),\n",
        "            nn.BatchNorm2d(out_planes, momentum=0.1),\n",
        "            # Replace with ReLU\n",
        "            nn.ReLU(inplace=False)\n",
        "        )\n",
        "\n",
        "\n",
        "class InvertedResidual(nn.Module):\n",
        "    def __init__(self, inp, oup, stride, expand_ratio):\n",
        "        super(InvertedResidual, self).__init__()\n",
        "        self.stride = stride\n",
        "        assert stride in [1, 2]\n",
        "\n",
        "        hidden_dim = int(round(inp * expand_ratio))\n",
        "        self.use_res_connect = self.stride == 1 and inp == oup\n",
        "\n",
        "        layers = []\n",
        "        if expand_ratio != 1:\n",
        "            # pw\n",
        "            layers.append(ConvBNReLU(inp, hidden_dim, kernel_size=1))\n",
        "        layers.extend([\n",
        "            # dw\n",
        "            ConvBNReLU(hidden_dim, hidden_dim, stride=stride, groups=hidden_dim),\n",
        "            # pw-linear\n",
        "            nn.Conv2d(hidden_dim, oup, 1, 1, 0, bias=False),\n",
        "            nn.BatchNorm2d(oup, momentum=0.1),\n",
        "        ])\n",
        "        self.conv = nn.Sequential(*layers)\n",
        "        # Replace torch.add with floatfunctional\n",
        "        self.skip_add = nn.quantized.FloatFunctional()\n",
        "\n",
        "    def forward(self, x):\n",
        "        if self.use_res_connect:\n",
        "            return self.skip_add.add(x, self.conv(x))\n",
        "        else:\n",
        "            return self.conv(x)\n",
        "\n",
        "\n",
        "class MobileNetV2(nn.Module):\n",
        "    def __init__(self, num_classes=1000, width_mult=1.0, inverted_residual_setting=None, round_nearest=8):\n",
        "        \"\"\"\n",
        "        MobileNet V2 main class\n",
        "        Args:\n",
        "            num_classes (int): Number of classes\n",
        "            width_mult (float): Width multiplier - adjusts number of channels in each layer by this amount\n",
        "            inverted_residual_setting: Network structure\n",
        "            round_nearest (int): Round the number of channels in each layer to be a multiple of this number\n",
        "            Set to 1 to turn off rounding\n",
        "        \"\"\"\n",
        "        super(MobileNetV2, self).__init__()\n",
        "        block = InvertedResidual\n",
        "        input_channel = 32\n",
        "        last_channel = 1280\n",
        "\n",
        "        if inverted_residual_setting is None:\n",
        "            inverted_residual_setting = [\n",
        "                # t, c, n, s\n",
        "                [1, 16, 1, 1],\n",
        "                [6, 24, 2, 2],\n",
        "                [6, 32, 3, 2],\n",
        "                [6, 64, 4, 2],\n",
        "                [6, 96, 3, 1],\n",
        "                [6, 160, 3, 2],\n",
        "                [6, 320, 1, 1],\n",
        "            ]\n",
        "\n",
        "        # only check the first element, assuming user knows t,c,n,s are required\n",
        "        if len(inverted_residual_setting) == 0 or len(inverted_residual_setting[0]) != 4:\n",
        "            raise ValueError(\"inverted_residual_setting should be non-empty \"\n",
        "                             \"or a 4-element list, got {}\".format(inverted_residual_setting))\n",
        "\n",
        "        # building first layer\n",
        "        input_channel = _make_divisible(input_channel * width_mult, round_nearest)\n",
        "        self.last_channel = _make_divisible(last_channel * max(1.0, width_mult), round_nearest)\n",
        "        features = [ConvBNReLU(3, input_channel, stride=2)]\n",
        "        # building inverted residual blocks\n",
        "        for t, c, n, s in inverted_residual_setting:\n",
        "            output_channel = _make_divisible(c * width_mult, round_nearest)\n",
        "            for i in range(n):\n",
        "                stride = s if i == 0 else 1\n",
        "                features.append(block(input_channel, output_channel, stride, expand_ratio=t))\n",
        "                input_channel = output_channel\n",
        "        # building last several layers\n",
        "        features.append(ConvBNReLU(input_channel, self.last_channel, kernel_size=1))\n",
        "        # make it nn.Sequential\n",
        "        self.features = nn.Sequential(*features)\n",
        "        self.quant = QuantStub()\n",
        "        self.dequant = DeQuantStub()\n",
        "        # building classifier\n",
        "        self.classifier = nn.Sequential(\n",
        "            nn.Dropout(0.2),\n",
        "            nn.Linear(self.last_channel, num_classes),\n",
        "        )\n",
        "\n",
        "        # weight initialization\n",
        "        for m in self.modules():\n",
        "            if isinstance(m, nn.Conv2d):\n",
        "                nn.init.kaiming_normal_(m.weight, mode='fan_out')\n",
        "                if m.bias is not None:\n",
        "                    nn.init.zeros_(m.bias)\n",
        "            elif isinstance(m, nn.BatchNorm2d):\n",
        "                nn.init.ones_(m.weight)\n",
        "                nn.init.zeros_(m.bias)\n",
        "            elif isinstance(m, nn.Linear):\n",
        "                nn.init.normal_(m.weight, 0, 0.01)\n",
        "                nn.init.zeros_(m.bias)\n",
        "\n",
        "    def forward(self, x):\n",
        "        x = self.quant(x)\n",
        "        x = self.features(x)\n",
        "        x = x.mean([2, 3])\n",
        "        x = self.classifier(x)\n",
        "        x = self.dequant(x)\n",
        "        return x\n",
        "\n",
        "    # Fuse Conv+BN and Conv+BN+Relu modules prior to quantization\n",
        "    # This operation does not change the numerics\n",
        "    def fuse_model(self):\n",
        "        for m in self.modules():\n",
        "            if type(m) == ConvBNReLU:\n",
        "                torch.ao.quantization.fuse_modules(m, ['0', '1', '2'], inplace=True)\n",
        "            if type(m) == InvertedResidual:\n",
        "                for idx in range(len(m.conv)):\n",
        "                    if type(m.conv[idx]) == nn.Conv2d:\n",
        "                        torch.ao.quantization.fuse_modules(m.conv, [str(idx), str(idx + 1)], inplace=True)"
      ]
    },
    {
      "cell_type": "markdown",
      "metadata": {
        "id": "HWPzgeIP7H1i"
      },
      "source": [
        "## 2. Helper functions"
      ]
    },
    {
      "cell_type": "code",
      "execution_count": 4,
      "metadata": {
        "id": "py6rvos07IhA"
      },
      "outputs": [],
      "source": [
        "class AverageMeter(object):\n",
        "    \"\"\"Computes and stores the average and current value\"\"\"\n",
        "    def __init__(self, name, fmt=':f'):\n",
        "        self.name = name\n",
        "        self.fmt = fmt\n",
        "        self.reset()\n",
        "\n",
        "    def reset(self):\n",
        "        self.val = 0\n",
        "        self.avg = 0\n",
        "        self.sum = 0\n",
        "        self.count = 0\n",
        "\n",
        "    def update(self, val, n=1):\n",
        "        self.val = val\n",
        "        self.sum += val * n\n",
        "        self.count += n\n",
        "        self.avg = self.sum / self.count\n",
        "\n",
        "    def __str__(self):\n",
        "        fmtstr = '{name} {val' + self.fmt + '} ({avg' + self.fmt + '})'\n",
        "        return fmtstr.format(**self.__dict__)\n",
        "\n",
        "\n",
        "def accuracy(output, target, topk=(1,)):\n",
        "    \"\"\"Computes the accuracy over the k top predictions for the specified values of k\"\"\"\n",
        "    with torch.no_grad():\n",
        "        maxk = max(topk)\n",
        "        batch_size = target.size(0)\n",
        "\n",
        "        _, pred = output.topk(maxk, 1, True, True)\n",
        "        pred = pred.t()\n",
        "        correct = pred.eq(target.view(1, -1).expand_as(pred))\n",
        "\n",
        "        res = []\n",
        "        for k in topk:\n",
        "            correct_k = correct[:k].reshape(-1).float().sum(0, keepdim=True)\n",
        "            res.append(correct_k.mul_(100.0 / batch_size))\n",
        "        return res\n",
        "\n",
        "\n",
        "def evaluate(model, criterion, data_loader, neval_batches):\n",
        "    model.eval()\n",
        "    top1 = AverageMeter('Acc@1', ':6.2f')\n",
        "    top5 = AverageMeter('Acc@5', ':6.2f')\n",
        "    cnt = 0\n",
        "    with torch.no_grad():\n",
        "        for image, target in data_loader:\n",
        "            output = model(image)\n",
        "            loss = criterion(output, target)\n",
        "            cnt += 1\n",
        "            acc1, acc5 = accuracy(output, target, topk=(1, 5))\n",
        "            print('.', end = '')\n",
        "            top1.update(acc1[0], image.size(0))\n",
        "            top5.update(acc5[0], image.size(0))\n",
        "            if cnt >= neval_batches:\n",
        "                 return top1, top5\n",
        "\n",
        "    return top1, top5\n",
        "\n",
        "def load_model(model_file):\n",
        "    model = MobileNetV2()\n",
        "    state_dict = torch.load(model_file)\n",
        "    model.load_state_dict(state_dict)\n",
        "    model.to('cpu')\n",
        "    return model\n",
        "\n",
        "def print_size_of_model(model):\n",
        "    torch.save(model.state_dict(), \"temp.p\")\n",
        "    print('Size (MB):', os.path.getsize(\"temp.p\")/1e6)\n",
        "    os.remove('temp.p')"
      ]
    },
    {
      "cell_type": "markdown",
      "metadata": {
        "id": "6P1CkYH67ObT"
      },
      "source": [
        "## 3. Define dataset and data loaders"
      ]
    },
    {
      "cell_type": "markdown",
      "metadata": {},
      "source": [
        "As our last major setup step, we define our dataloaders for our training and testing set\n",
        "#### ImageNet Data\n",
        "To run the code in this tutorial using the entire ImageNet dataset, first download imagenet by following the instructions at here <a href='https://image-net.org/download'>ImageNet Data</a>. Unzip the downloaded file into the ‘data_path’ folder. With the data downloaded, we show functions below that define dataloaders we’ll use to read in this data."
      ]
    },
    {
      "cell_type": "code",
      "execution_count": 5,
      "metadata": {
        "id": "6Ky7w5N17QP2"
      },
      "outputs": [],
      "source": [
        "def prepare_data_loaders(data_path):\n",
        "    normalize = transforms.Normalize(mean=[0.485, 0.456, 0.406],\n",
        "                                     std=[0.229, 0.224, 0.225])\n",
        "    dataset = torchvision.datasets.ImageNet(\n",
        "        data_path, split=\"train\", transform=transforms.Compose([\n",
        "            transforms.RandomResizedCrop(224),\n",
        "            transforms.RandomHorizontalFlip(),\n",
        "            transforms.ToTensor(),\n",
        "            normalize,\n",
        "        ]))\n",
        "    dataset_test = torchvision.datasets.ImageNet(\n",
        "        data_path, split=\"val\", transform=transforms.Compose([\n",
        "            transforms.Resize(256),\n",
        "            transforms.CenterCrop(224),\n",
        "            transforms.ToTensor(),\n",
        "            normalize,\n",
        "        ]))\n",
        "\n",
        "    train_sampler = torch.utils.data.RandomSampler(dataset)\n",
        "    test_sampler = torch.utils.data.SequentialSampler(dataset_test)\n",
        "\n",
        "    data_loader = torch.utils.data.DataLoader(\n",
        "        dataset, batch_size=train_batch_size,\n",
        "        sampler=train_sampler)\n",
        "\n",
        "    data_loader_test = torch.utils.data.DataLoader(\n",
        "        dataset_test, batch_size=eval_batch_size,\n",
        "        sampler=test_sampler)\n",
        "\n",
        "    return data_loader, data_loader_test"
      ]
    },
    {
      "cell_type": "markdown",
      "metadata": {},
      "source": [
        "Next, we’ll load in the pre-trained MobileNetV2 model. We provide the URL to download the model <a class=\"reference external\" href=\"https://download.pytorch.org/models/mobilenet_v2-b0353104.pth\">here</a>. <br>\n",
        "Note: \n",
        "- rename mobilenet_v2-b0353104.pth to mobilenet_pretrained_float.pth\n",
        "- Change saved_model_dir to the directory of the file."
      ]
    },
    {
      "cell_type": "code",
      "execution_count": 6,
      "metadata": {
        "colab": {
          "base_uri": "https://localhost:8080/",
          "height": 407
        },
        "id": "7vIDkcBJ8bX9",
        "outputId": "a87bedb4-9048-4878-b61e-3eab0526d9dd"
      },
      "outputs": [
        {
          "name": "stdout",
          "output_type": "stream",
          "text": [
            "\n",
            " Inverted Residual Block: Before fusion \n",
            "\n",
            " Sequential(\n",
            "  (0): ConvBNReLU(\n",
            "    (0): Conv2d(32, 32, kernel_size=(3, 3), stride=(1, 1), padding=(1, 1), groups=32, bias=False)\n",
            "    (1): BatchNorm2d(32, eps=1e-05, momentum=0.1, affine=True, track_running_stats=True)\n",
            "    (2): ReLU()\n",
            "  )\n",
            "  (1): Conv2d(32, 16, kernel_size=(1, 1), stride=(1, 1), bias=False)\n",
            "  (2): BatchNorm2d(16, eps=1e-05, momentum=0.1, affine=True, track_running_stats=True)\n",
            ")\n",
            "\n",
            " Inverted Residual Block: After fusion\n",
            "\n",
            " Sequential(\n",
            "  (0): ConvBNReLU(\n",
            "    (0): ConvReLU2d(\n",
            "      (0): Conv2d(32, 32, kernel_size=(3, 3), stride=(1, 1), padding=(1, 1), groups=32)\n",
            "      (1): ReLU()\n",
            "    )\n",
            "    (1): Identity()\n",
            "    (2): Identity()\n",
            "  )\n",
            "  (1): Conv2d(32, 16, kernel_size=(1, 1), stride=(1, 1))\n",
            "  (2): Identity()\n",
            ")\n"
          ]
        }
      ],
      "source": [
        "data_path = '~/.data/imagenet'\n",
        "saved_model_dir = 'C:/Users/dariu/.data/imagenet/data/'\n",
        "float_model_file = 'mobilenet_pretrained_float.pth'\n",
        "scripted_float_model_file = 'mobilenet_quantization_scripted.pth'\n",
        "scripted_quantized_model_file = 'mobilenet_quantization_scripted_quantized.pth'\n",
        "scripted_aware_model_file = 'mobilenet_quantization_scripted_aware.pth'\n",
        "\n",
        "train_batch_size = 30\n",
        "eval_batch_size = 50\n",
        "\n",
        "data_loader, data_loader_test = prepare_data_loaders(data_path)\n",
        "criterion = nn.CrossEntropyLoss()\n",
        "float_model = load_model(saved_model_dir + float_model_file).to('cpu')\n",
        "\n",
        "# Next, we'll \"fuse modules\"; this can both make the model faster by saving on memory access\n",
        "# while also improving numerical accuracy. While this can be used with any model, this is\n",
        "# especially common with quantized models.\n",
        "\n",
        "print('\\n Inverted Residual Block: Before fusion \\n\\n', float_model.features[1].conv)\n",
        "float_model.eval()\n",
        "\n",
        "# Fuses modules\n",
        "float_model.fuse_model()\n",
        "\n",
        "# Note fusion of Conv+BN+Relu and Conv+Relu\n",
        "print('\\n Inverted Residual Block: After fusion\\n\\n',float_model.features[1].conv)"
      ]
    },
    {
      "cell_type": "markdown",
      "metadata": {},
      "source": [
        "Finally to get a “baseline” accuracy, let’s see the accuracy of our un-quantized model with fused modules"
      ]
    },
    {
      "cell_type": "code",
      "execution_count": 7,
      "metadata": {
        "id": "h5G9E9nV8iZu"
      },
      "outputs": [
        {
          "name": "stdout",
          "output_type": "stream",
          "text": [
            "Size of baseline model\n",
            "Size (MB): 13.990612\n",
            "........................................................................................................................................................................................................................................................................................................................................................................................................................................................................................................................................................................................................................................................................................................................................................................................................................................................................................................................................................................................................................................\n",
            "\n",
            "Evaluation accuracy on 50000 images, 71.84\n"
          ]
        }
      ],
      "source": [
        "num_eval_batches = 1000\n",
        "\n",
        "print(\"Size of baseline model\")\n",
        "print_size_of_model(float_model)\n",
        "\n",
        "top1, top5 = evaluate(float_model, criterion, data_loader_test, neval_batches=num_eval_batches)\n",
        "print(\"\\n\")\n",
        "print('Evaluation accuracy on %d images, %2.2f'%(num_eval_batches * eval_batch_size, top1.avg))\n",
        "torch.jit.save(torch.jit.script(float_model), saved_model_dir + scripted_float_model_file)\n",
        "original_accuracy = float(top1.avg)"
      ]
    },
    {
      "cell_type": "markdown",
      "metadata": {},
      "source": [
        "On the entire model, we get an accuracy of 71.9% on the eval dataset of 50,000 images. This will be our baseline to compare to. Next, let’s try different quantization methods"
      ]
    },
    {
      "cell_type": "markdown",
      "metadata": {},
      "source": [
        "## 4. Post-training static quantization"
      ]
    },
    {
      "cell_type": "markdown",
      "metadata": {},
      "source": [
        "Post-training static quantization involves not just converting the weights from float to int, as in dynamic quantization, but also performing the additional step of first feeding batches of data through the network and computing the resulting distributions of the different activations (specifically, this is done by inserting observer modules at different points that record this data). These distributions are then used to determine how the specifically the different activations should be quantized at inference time (a simple technique would be to simply divide the entire range of activations into 256 levels, but we support more sophisticated methods as well). Importantly, this additional step allows us to pass quantized values between operations instead of converting these values to floats - and then back to ints - between every operation, resulting in a significant speed-up."
      ]
    },
    {
      "cell_type": "code",
      "execution_count": 8,
      "metadata": {},
      "outputs": [
        {
          "name": "stdout",
          "output_type": "stream",
          "text": [
            "QConfig(activation=functools.partial(<class 'torch.ao.quantization.observer.MinMaxObserver'>, quant_min=0, quant_max=127){}, weight=functools.partial(<class 'torch.ao.quantization.observer.MinMaxObserver'>, dtype=torch.qint8, qscheme=torch.per_tensor_symmetric){})\n",
            "Post Training Quantization Prepare: Inserting Observers\n",
            "\n",
            " Inverted Residual Block:After observer insertion \n",
            "\n",
            " Sequential(\n",
            "  (0): ConvBNReLU(\n",
            "    (0): ConvReLU2d(\n",
            "      (0): Conv2d(32, 32, kernel_size=(3, 3), stride=(1, 1), padding=(1, 1), groups=32)\n",
            "      (1): ReLU()\n",
            "      (activation_post_process): MinMaxObserver(min_val=inf, max_val=-inf)\n",
            "    )\n",
            "    (1): Identity()\n",
            "    (2): Identity()\n",
            "  )\n",
            "  (1): Conv2d(\n",
            "    32, 16, kernel_size=(1, 1), stride=(1, 1)\n",
            "    (activation_post_process): MinMaxObserver(min_val=inf, max_val=-inf)\n",
            "  )\n",
            "  (2): Identity()\n",
            ")\n",
            "................................Post Training Quantization: Calibration done\n",
            "Post Training Quantization: Convert done\n",
            "\n",
            " Inverted Residual Block: After fusion and quantization, note fused modules: \n",
            "\n",
            " Sequential(\n",
            "  (0): ConvBNReLU(\n",
            "    (0): QuantizedConvReLU2d(32, 32, kernel_size=(3, 3), stride=(1, 1), scale=0.15138116478919983, zero_point=0, padding=(1, 1), groups=32)\n",
            "    (1): Identity()\n",
            "    (2): Identity()\n",
            "  )\n",
            "  (1): QuantizedConv2d(32, 16, kernel_size=(1, 1), stride=(1, 1), scale=0.19891831278800964, zero_point=67)\n",
            "  (2): Identity()\n",
            ")\n",
            "Size of model after quantization\n",
            "Size (MB): 3.620878\n"
          ]
        },
        {
          "name": "stderr",
          "output_type": "stream",
          "text": [
            "c:\\Users\\dariu\\AppData\\Local\\Programs\\Python\\Python311\\Lib\\site-packages\\torch\\ao\\quantization\\utils.py:317: UserWarning: must run observer before calling calculate_qparams. Returning default values.\n",
            "  warnings.warn(\n"
          ]
        },
        {
          "name": "stdout",
          "output_type": "stream",
          "text": [
            "........................................................................................................................................................................................................................................................................................................................................................................................................................................................................................................................................................................................................................................................................................................................................................................................................................................................................................................................................................................................................................................\n",
            "\n",
            "Evaluation accuracy on 50000 images, 56.61\n"
          ]
        }
      ],
      "source": [
        "num_calibration_batches = 32\n",
        "\n",
        "myModel = load_model(saved_model_dir + float_model_file).to('cpu')\n",
        "myModel.eval()\n",
        "\n",
        "# Fuse Conv, bn and relu\n",
        "myModel.fuse_model()\n",
        "\n",
        "# Specify quantization configuration\n",
        "# Start with simple min/max range estimation and per-tensor quantization of weights\n",
        "myModel.qconfig = torch.ao.quantization.default_qconfig\n",
        "print(myModel.qconfig)\n",
        "torch.ao.quantization.prepare(myModel, inplace=True)\n",
        "\n",
        "# Calibrate first\n",
        "print('Post Training Quantization Prepare: Inserting Observers')\n",
        "print('\\n Inverted Residual Block:After observer insertion \\n\\n', myModel.features[1].conv)\n",
        "\n",
        "# Calibrate with the training set\n",
        "evaluate(myModel, criterion, data_loader, neval_batches=num_calibration_batches)\n",
        "print('Post Training Quantization: Calibration done')\n",
        "\n",
        "# Convert to quantized model\n",
        "torch.ao.quantization.convert(myModel, inplace=True)\n",
        "print('Post Training Quantization: Convert done')\n",
        "print('\\n Inverted Residual Block: After fusion and quantization, note fused modules: \\n\\n',myModel.features[1].conv)\n",
        "\n",
        "print(\"Size of model after quantization\")\n",
        "print_size_of_model(myModel)\n",
        "\n",
        "top1, top5 = evaluate(myModel, criterion, data_loader_test, neval_batches=num_eval_batches)\n",
        "print(\"\\n\")\n",
        "print('Evaluation accuracy on %d images, %2.2f'%(num_eval_batches * eval_batch_size, top1.avg))"
      ]
    },
    {
      "cell_type": "markdown",
      "metadata": {},
      "source": [
        "For this quantized model, we see an accuracy of 56.7% on the eval dataset. This is because we used a simple min/max observer to determine quantization parameters. Nevertheless, we did reduce the size of our model down to just under 3.6 MB, almost a 4x decrease.\n",
        "\n",
        "In addition, we can significantly improve on the accuracy simply by using a different quantization configuration. We repeat the same exercise with the recommended configuration for quantizing for x86 architectures. This configuration does the following:\n",
        "\n",
        "- Quantizes weights on a per-channel basis\n",
        "\n",
        "- Uses a histogram observer that collects a histogram of activations and then picks quantization parameters in an optimal manner.\n",
        "\n"
      ]
    },
    {
      "cell_type": "code",
      "execution_count": 9,
      "metadata": {},
      "outputs": [
        {
          "name": "stdout",
          "output_type": "stream",
          "text": [
            "QConfig(activation=functools.partial(<class 'torch.ao.quantization.observer.HistogramObserver'>, reduce_range=True){}, weight=functools.partial(<class 'torch.ao.quantization.observer.PerChannelMinMaxObserver'>, dtype=torch.qint8, qscheme=torch.per_channel_symmetric){})\n"
          ]
        },
        {
          "name": "stderr",
          "output_type": "stream",
          "text": [
            "c:\\Users\\dariu\\AppData\\Local\\Programs\\Python\\Python311\\Lib\\site-packages\\torch\\ao\\quantization\\observer.py:214: UserWarning: Please use quant_min and quant_max to specify the range for observers.                     reduce_range will be deprecated in a future release of PyTorch.\n",
            "  warnings.warn(\n"
          ]
        },
        {
          "name": "stdout",
          "output_type": "stream",
          "text": [
            "................................"
          ]
        },
        {
          "name": "stderr",
          "output_type": "stream",
          "text": [
            "c:\\Users\\dariu\\AppData\\Local\\Programs\\Python\\Python311\\Lib\\site-packages\\torch\\ao\\quantization\\observer.py:1207: UserWarning: must run observer before calling calculate_qparams.                                    Returning default scale and zero point \n",
            "  warnings.warn(\n"
          ]
        },
        {
          "name": "stdout",
          "output_type": "stream",
          "text": [
            "........................................................................................................................................................................................................................................................................................................................................................................................................................................................................................................................................................................................................................................................................................................................................................................................................................................................................................................................................................................................................................................\n",
            "\n",
            "Evaluation accuracy on 50000 images, 67.45\n"
          ]
        }
      ],
      "source": [
        "per_channel_quantized_model = load_model(saved_model_dir + float_model_file)\n",
        "per_channel_quantized_model.eval()\n",
        "per_channel_quantized_model.fuse_model()\n",
        "# The old 'fbgemm' is still available but 'x86' is the recommended default.\n",
        "per_channel_quantized_model.qconfig = torch.ao.quantization.get_default_qconfig('x86')\n",
        "print(per_channel_quantized_model.qconfig)\n",
        "\n",
        "torch.ao.quantization.prepare(per_channel_quantized_model, inplace=True)\n",
        "evaluate(per_channel_quantized_model,criterion, data_loader, num_calibration_batches)\n",
        "torch.ao.quantization.convert(per_channel_quantized_model, inplace=True)\n",
        "\n",
        "top1, top5 = evaluate(per_channel_quantized_model, criterion, data_loader_test, neval_batches=num_eval_batches)\n",
        "print(\"\\n\")\n",
        "print('Evaluation accuracy on %d images, %2.2f'%(num_eval_batches * eval_batch_size, top1.avg))\n",
        "torch.jit.save(torch.jit.script(per_channel_quantized_model), saved_model_dir + scripted_quantized_model_file)\n",
        "post_training_accuracy = float(top1.avg)"
      ]
    },
    {
      "cell_type": "markdown",
      "metadata": {},
      "source": [
        "Changing just this quantization configuration method resulted in an increase of the accuracy to over 67.3%! Still, this is 4% worse than the baseline of 71.9% achieved above. So lets try quantization aware training."
      ]
    },
    {
      "cell_type": "markdown",
      "metadata": {},
      "source": [
        "## 5. Quantization-aware training"
      ]
    },
    {
      "cell_type": "markdown",
      "metadata": {},
      "source": [
        "Quantization-aware training (QAT) is the quantization method that typically results in the highest accuracy. With QAT, all weights and activations are “fake quantized” during both the forward and backward passes of training: that is, float values are rounded to mimic int8 values, but all computations are still done with floating point numbers. Thus, all the weight adjustments during training are made while “aware” of the fact that the model will ultimately be quantized; after quantizing, therefore, this method will usually yield higher accuracy than either dynamic quantization or post-training static quantization.\n",
        "\n",
        "The overall workflow for actually performing QAT is very similar to before:\n",
        "- We can use the same model as before: there is no additional preparation needed for quantization-aware training.\n",
        "- We need to use a qconfig specifying what kind of fake-quantization is to be inserted after weights and activations, instead of specifying observers"
      ]
    },
    {
      "cell_type": "code",
      "execution_count": 10,
      "metadata": {},
      "outputs": [],
      "source": [
        "def train_one_epoch(model, criterion, optimizer, data_loader, device, ntrain_batches):\n",
        "    model.train()\n",
        "    top1 = AverageMeter('Acc@1', ':6.2f')\n",
        "    top5 = AverageMeter('Acc@5', ':6.2f')\n",
        "    avgloss = AverageMeter('Loss', '1.5f')\n",
        "\n",
        "    cnt = 0\n",
        "    for image, target in data_loader:\n",
        "        start_time = time.time()\n",
        "        print('.', end = '')\n",
        "        cnt += 1\n",
        "        image, target = image.to(device), target.to(device)\n",
        "        output = model(image)\n",
        "        loss = criterion(output, target)\n",
        "        optimizer.zero_grad()\n",
        "        loss.backward()\n",
        "        optimizer.step()\n",
        "        acc1, acc5 = accuracy(output, target, topk=(1, 5))\n",
        "        top1.update(acc1[0], image.size(0))\n",
        "        top5.update(acc5[0], image.size(0))\n",
        "        avgloss.update(loss, image.size(0))\n",
        "        if cnt >= ntrain_batches:\n",
        "            print('Loss', avgloss.avg)\n",
        "\n",
        "            print('Training: * Acc@1 {top1.avg:.3f} Acc@5 {top5.avg:.3f}'\n",
        "                  .format(top1=top1, top5=top5))\n",
        "            return\n",
        "\n",
        "    print('Full imagenet train set:  * Acc@1 {top1.global_avg:.3f} Acc@5 {top5.global_avg:.3f}'\n",
        "          .format(top1=top1, top5=top5))\n",
        "    return"
      ]
    },
    {
      "cell_type": "markdown",
      "metadata": {},
      "source": [
        "We fuse modules as before"
      ]
    },
    {
      "cell_type": "code",
      "execution_count": 11,
      "metadata": {},
      "outputs": [],
      "source": [
        "qat_model = load_model(saved_model_dir + float_model_file)\n",
        "qat_model.eval()\n",
        "qat_model.fuse_model()\n",
        "\n",
        "optimizer = torch.optim.SGD(qat_model.parameters(), lr = 0.0001)\n",
        "# The old 'fbgemm' is still available but 'x86' is the recommended default.\n",
        "qat_model.qconfig = torch.ao.quantization.get_default_qat_qconfig('x86')"
      ]
    },
    {
      "cell_type": "markdown",
      "metadata": {},
      "source": [
        "Finally, prepare_qat performs the “fake quantization”, preparing the model for quantization-aware training"
      ]
    },
    {
      "cell_type": "code",
      "execution_count": 12,
      "metadata": {},
      "outputs": [
        {
          "name": "stdout",
          "output_type": "stream",
          "text": [
            "Inverted Residual Block: After preparation for QAT, note fake-quantization modules \n",
            " Sequential(\n",
            "  (0): ConvBNReLU(\n",
            "    (0): ConvReLU2d(\n",
            "      32, 32, kernel_size=(3, 3), stride=(1, 1), padding=(1, 1), groups=32\n",
            "      (weight_fake_quant): FusedMovingAvgObsFakeQuantize(\n",
            "        fake_quant_enabled=tensor([1]), observer_enabled=tensor([1]), scale=tensor([1.]), zero_point=tensor([0], dtype=torch.int32), dtype=torch.qint8, quant_min=-128, quant_max=127, qscheme=torch.per_channel_symmetric, reduce_range=False\n",
            "        (activation_post_process): MovingAveragePerChannelMinMaxObserver(min_val=tensor([]), max_val=tensor([]))\n",
            "      )\n",
            "      (activation_post_process): FusedMovingAvgObsFakeQuantize(\n",
            "        fake_quant_enabled=tensor([1]), observer_enabled=tensor([1]), scale=tensor([1.]), zero_point=tensor([0], dtype=torch.int32), dtype=torch.quint8, quant_min=0, quant_max=127, qscheme=torch.per_tensor_affine, reduce_range=True\n",
            "        (activation_post_process): MovingAverageMinMaxObserver(min_val=inf, max_val=-inf)\n",
            "      )\n",
            "    )\n",
            "    (1): Identity()\n",
            "    (2): Identity()\n",
            "  )\n",
            "  (1): Conv2d(\n",
            "    32, 16, kernel_size=(1, 1), stride=(1, 1)\n",
            "    (weight_fake_quant): FusedMovingAvgObsFakeQuantize(\n",
            "      fake_quant_enabled=tensor([1]), observer_enabled=tensor([1]), scale=tensor([1.]), zero_point=tensor([0], dtype=torch.int32), dtype=torch.qint8, quant_min=-128, quant_max=127, qscheme=torch.per_channel_symmetric, reduce_range=False\n",
            "      (activation_post_process): MovingAveragePerChannelMinMaxObserver(min_val=tensor([]), max_val=tensor([]))\n",
            "    )\n",
            "    (activation_post_process): FusedMovingAvgObsFakeQuantize(\n",
            "      fake_quant_enabled=tensor([1]), observer_enabled=tensor([1]), scale=tensor([1.]), zero_point=tensor([0], dtype=torch.int32), dtype=torch.quint8, quant_min=0, quant_max=127, qscheme=torch.per_tensor_affine, reduce_range=True\n",
            "      (activation_post_process): MovingAverageMinMaxObserver(min_val=inf, max_val=-inf)\n",
            "    )\n",
            "  )\n",
            "  (2): Identity()\n",
            ")\n"
          ]
        }
      ],
      "source": [
        "qat_model.train()\n",
        "torch.ao.quantization.prepare_qat(qat_model, inplace=True)\n",
        "print('Inverted Residual Block: After preparation for QAT, note fake-quantization modules \\n',qat_model.features[1].conv)"
      ]
    },
    {
      "cell_type": "markdown",
      "metadata": {},
      "source": [
        "Training a quantized model with high accuracy requires accurate modeling of numerics at inference. For quantization aware training, therefore, we modify the training loop by:\n",
        "- Switch batch norm to use running mean and variance towards the end of training to better match inference numerics.\n",
        "- We also freeze the quantizer parameters (scale and zero-point) and fine tune the weights."
      ]
    },
    {
      "cell_type": "code",
      "execution_count": 13,
      "metadata": {},
      "outputs": [
        {
          "name": "stdout",
          "output_type": "stream",
          "text": [
            "....................Loss tensor(1.5427, grad_fn=<DivBackward0>)\n",
            "Training: * Acc@1 64.333 Acc@5 83.333\n",
            "........................................................................................................................................................................................................................................................................................................................................................................................................................................................................................................................................................................................................................................................................................................................................................................................................................................................................................................................................................................................................................................\n",
            "\n",
            "Epoch 0 :Evaluation accuracy on 50000 images, 67.29\n",
            "....................Loss tensor(1.7078, grad_fn=<DivBackward0>)\n",
            "Training: * Acc@1 61.667 Acc@5 83.000\n",
            "........................................................................................................................................................................................................................................................................................................................................................................................................................................................................................................................................................................................................................................................................................................................................................................................................................................................................................................................................................................................................................................\n",
            "\n",
            "Epoch 1 :Evaluation accuracy on 50000 images, 67.62\n",
            "....................Loss tensor(1.4836, grad_fn=<DivBackward0>)\n",
            "Training: * Acc@1 64.333 Acc@5 86.167\n",
            "........................................................................................................................................................................................................................................................................................................................................................................................................................................................................................................................................................................................................................................................................................................................................................................................................................................................................................................................................................................................................................................\n",
            "\n",
            "Epoch 2 :Evaluation accuracy on 50000 images, 67.77\n",
            "....................Loss tensor(1.4570, grad_fn=<DivBackward0>)\n",
            "Training: * Acc@1 64.500 Acc@5 86.333\n",
            "........................................................................................................................................................................................................................................................................................................................................................................................................................................................................................................................................................................................................................................................................................................................................................................................................................................................................................................................................................................................................................................\n",
            "\n",
            "Epoch 3 :Evaluation accuracy on 50000 images, 68.08\n",
            "....................Loss tensor(1.3174, grad_fn=<DivBackward0>)\n",
            "Training: * Acc@1 66.833 Acc@5 88.000\n",
            "........................................................................................................................................................................................................................................................................................................................................................................................................................................................................................................................................................................................................................................................................................................................................................................................................................................................................................................................................................................................................................................\n",
            "\n",
            "Epoch 4 :Evaluation accuracy on 50000 images, 68.15\n",
            "....................Loss tensor(1.3844, grad_fn=<DivBackward0>)\n",
            "Training: * Acc@1 66.500 Acc@5 85.667\n",
            "........................................................................................................................................................................................................................................................................................................................................................................................................................................................................................................................................................................................................................................................................................................................................................................................................................................................................................................................................................................................................................................\n",
            "\n",
            "Epoch 5 :Evaluation accuracy on 50000 images, 68.28\n",
            "....................Loss tensor(1.5412, grad_fn=<DivBackward0>)\n",
            "Training: * Acc@1 66.000 Acc@5 84.833\n",
            "........................................................................................................................................................................................................................................................................................................................................................................................................................................................................................................................................................................................................................................................................................................................................................................................................................................................................................................................................................................................................................................\n",
            "\n",
            "Epoch 6 :Evaluation accuracy on 50000 images, 68.24\n",
            "....................Loss tensor(1.4104, grad_fn=<DivBackward0>)\n",
            "Training: * Acc@1 64.833 Acc@5 85.500\n",
            "........................................................................................................................................................................................................................................................................................................................................................................................................................................................................................................................................................................................................................................................................................................................................................................................................................................................................................................................................................................................................................................\n",
            "\n",
            "Epoch 7 :Evaluation accuracy on 50000 images, 68.30\n"
          ]
        }
      ],
      "source": [
        "num_train_batches = 20\n",
        "\n",
        "# QAT takes time and one needs to train over a few epochs.\n",
        "# Train and check accuracy after each epoch\n",
        "for nepoch in range(8):\n",
        "    train_one_epoch(qat_model, criterion, optimizer, data_loader, torch.device('cpu'), num_train_batches)\n",
        "    if nepoch > 3:\n",
        "        # Freeze quantizer parameters\n",
        "        qat_model.apply(torch.ao.quantization.disable_observer)\n",
        "    if nepoch > 2:\n",
        "        # Freeze batch norm mean and variance estimates\n",
        "        qat_model.apply(torch.nn.intrinsic.qat.freeze_bn_stats)\n",
        "\n",
        "    # Check the accuracy after each epoch\n",
        "    quantized_model = torch.ao.quantization.convert(qat_model.eval(), inplace=False)\n",
        "    quantized_model.eval()\n",
        "\n",
        "    top1, top5 = evaluate(quantized_model,criterion, data_loader_test, neval_batches=num_eval_batches)\n",
        "    print(\"\\n\")\n",
        "    print('Epoch %d :Evaluation accuracy on %d images, %2.2f'%(nepoch, num_eval_batches * eval_batch_size, top1.avg))\n",
        "    torch.jit.save(torch.jit.script(quantized_model), saved_model_dir + scripted_aware_model_file)\n",
        "    quantization_aware_accuracy = float(top1.avg)"
      ]
    },
    {
      "cell_type": "markdown",
      "metadata": {},
      "source": [
        "Quantization-aware training yields an accuracy of over 71.5% on the entire imagenet dataset, which is close to the floating point accuracy of 71.9%.\n",
        "<br>More on quantization-aware training:\n",
        "- QAT is a super-set of post training quant techniques that allows for more debugging. For example, we can analyze if the accuracy of the model is limited by weight or activation quantization.\n",
        "- We can also simulate the accuracy of a quantized model in floating point since we are using fake-quantization to model the numerics of actual quantized arithmetic.\n",
        "- We can mimic post training quantization easily too."
      ]
    },
    {
      "cell_type": "markdown",
      "metadata": {},
      "source": [
        "## Speedup from quantization"
      ]
    },
    {
      "cell_type": "markdown",
      "metadata": {},
      "source": [
        "Finally, let’s confirm something we alluded to above: do our quantized models actually perform inference faster? Let’s test:"
      ]
    },
    {
      "cell_type": "code",
      "execution_count": 14,
      "metadata": {},
      "outputs": [
        {
          "name": "stdout",
          "output_type": "stream",
          "text": [
            "Elapsed time for Original:  15 ms\n",
            "Elapsed time for Quantized:   4 ms\n"
          ]
        }
      ],
      "source": [
        "def run_benchmark(model_file, img_loader):\n",
        "    elapsed = 0\n",
        "    model = torch.jit.load(model_file)\n",
        "    model.eval()\n",
        "    num_batches = 5\n",
        "    # Run the scripted model on a few batches of images\n",
        "    for i, (images, target) in enumerate(img_loader):\n",
        "        if i < num_batches:\n",
        "            start = time.time()\n",
        "            output = model(images)\n",
        "            end = time.time()\n",
        "            elapsed = elapsed + (end-start)\n",
        "        else:\n",
        "            break\n",
        "    num_images = images.size()[0] * num_batches\n",
        "\n",
        "    return elapsed/num_images*1000\n",
        "\n",
        "test_original = run_benchmark(saved_model_dir + scripted_float_model_file, data_loader_test)\n",
        "print('Elapsed time for Original: %3.0f ms' % (test_original))\n",
        "test_quantized = run_benchmark(saved_model_dir + scripted_quantized_model_file, data_loader_test)\n",
        "print('Elapsed time for Quantized: %3.0f ms' % (test_quantized))"
      ]
    },
    {
      "cell_type": "markdown",
      "metadata": {},
      "source": [
        "Running this locally on a MacBook pro yielded 61 ms for the regular model, and just 20 ms for the quantized model, illustrating the typical 2-4x speedup we see for quantized models compared to floating point ones."
      ]
    },
    {
      "cell_type": "markdown",
      "metadata": {},
      "source": [
        "## Conclusion"
      ]
    },
    {
      "cell_type": "markdown",
      "metadata": {},
      "source": [
        "In this tutorial, we showed two quantization methods - post-training static quantization, and quantization-aware training - describing what they do “under the hood” and how to use them in PyTorch."
      ]
    },
    {
      "cell_type": "markdown",
      "metadata": {},
      "source": [
        "## Comparisons"
      ]
    },
    {
      "cell_type": "markdown",
      "metadata": {},
      "source": [
        "Run the following tutorial (https://pytorch.org/tutorials/advanced/static_quantization_tutorial.html)\n",
        "\n",
        "Compare the original model architecture, the model based on post-training quantization, and the model based on quantization-aware training. Don’t forget to specify your CPU & GPU specifications.\n",
        "\n",
        "<ol>\n",
        "<li>Latency (10)</li>\n",
        "<li>Power (10)</li>\n",
        "<li>Energy (10)</li>\n",
        "<li>Accuracy (10)</li>\n",
        "<li>Model Size (10)</li>\n",
        "</ol>"
      ]
    },
    {
      "cell_type": "markdown",
      "metadata": {},
      "source": [
        "#### CPU and GPU Specifications: \n",
        "- **CPU:** AMD Ryzen 7 6800H with Radeon Graphics - 3.20 GHz\n",
        "- **GPU:** NVIDIA GeForce RTX 3060 Laptop GPU"
      ]
    },
    {
      "cell_type": "code",
      "execution_count": 15,
      "metadata": {},
      "outputs": [],
      "source": [
        "latency_original = run_benchmark(saved_model_dir + scripted_float_model_file, data_loader_test)\n",
        "latency_post = run_benchmark(saved_model_dir + scripted_quantized_model_file, data_loader_test)\n",
        "latency_aware = run_benchmark(saved_model_dir + scripted_aware_model_file, data_loader_test)"
      ]
    },
    {
      "cell_type": "code",
      "execution_count": 19,
      "metadata": {},
      "outputs": [],
      "source": [
        "# hardware specifications (TDP in watts)\n",
        "cpu_power = 45  \n",
        "gpu_power = 115\n",
        "\n",
        "def measure_energy(model_latency, cpu, gpu):\n",
        "    seconds = model_latency / 1000  # latency in seconds\n",
        "\n",
        "    # Calculate energy consumption\n",
        "    cpu_energy = cpu * seconds  # in watt-seconds (joules)\n",
        "    gpu_energy = gpu * seconds  # in watt-seconds (joules)\n",
        "\n",
        "    return cpu_energy, gpu_energy\n",
        "\n",
        "energy_original_cpu, energy_original_gpu = measure_energy(latency_original, cpu_power, gpu_power)\n",
        "energy_post_cpu, energy_post_gpu = measure_energy(latency_post, cpu_power, gpu_power)\n",
        "energy_aware_cpu, energy_aware_gpu = measure_energy(latency_aware, cpu_power, gpu_power)\n"
      ]
    },
    {
      "cell_type": "code",
      "execution_count": 20,
      "metadata": {},
      "outputs": [],
      "source": [
        "def measure_model_size(model):\n",
        "    # Measure the size of the model in MB\n",
        "    torch.save(model.state_dict(), \"temp.p\")\n",
        "    model_size = os.path.getsize(\"temp.p\") / 1e6\n",
        "    os.remove(\"temp.p\")\n",
        "    return model_size\n",
        "\n",
        "model_size_original = measure_model_size(float_model)\n",
        "model_size_quantized = measure_model_size(per_channel_quantized_model)\n",
        "model_size_aware = measure_model_size(quantized_model)"
      ]
    },
    {
      "cell_type": "code",
      "execution_count": 24,
      "metadata": {},
      "outputs": [
        {
          "name": "stdout",
          "output_type": "stream",
          "text": [
            "-----  Original Model  -----\n",
            "Latency:  15 ms\n",
            "Power: consumes the most power due to its high computational requirements\n",
            "Energy: [CPU: 0.6759 J] [GPU: 1.7272 J]\n",
            "Accuracy: 71.84 %\n",
            "Model Size: 13.99 MB\n",
            "\n",
            "-----  Post-Training Quantization Model  -----\n",
            "Latency:   4 ms\n",
            "Power: consume less power than the original model\n",
            "Energy: [CPU: 0.1815 J] [GPU: 0.4639 J]\n",
            "Accuracy: 67.45 %\n",
            "Model Size: 3.93 MB\n",
            "\n",
            "-----  Quantization-Aware Training Model  -----\n",
            "Latency:   4 ms\n",
            "Power: expected to be the most power-efficient as it is fine-tuned for quantized hardware\n",
            "Energy: [CPU: 0.1642 J] [GPU: 0.4197 J]\n",
            "Accuracy: 68.30 %\n",
            "Model Size: 3.93 MB\n",
            "\n"
          ]
        }
      ],
      "source": [
        "print(\"-----  Original Model  -----\")\n",
        "print(\"Latency: %3.0f ms\" % (latency_original))\n",
        "print(\"Power: consumes the most power due to its high computational requirements\")\n",
        "print(\"Energy: [CPU: %.4f J] [GPU: %2.4f J]\" % (energy_original_cpu, energy_original_gpu))\n",
        "print(\"Accuracy: %2.2f %%\" % (original_accuracy))\n",
        "print(\"Model Size: %2.2f MB\" % (model_size_original),end='\\n\\n')\n",
        "\n",
        "print(\"-----  Post-Training Quantization Model  -----\")\n",
        "print(\"Latency: %3.0f ms\" % (latency_post))\n",
        "run_benchmark(saved_model_dir + scripted_quantized_model_file, data_loader_test)\n",
        "print(\"Power: consume less power than the original model\")\n",
        "print(\"Energy: [CPU: %2.4f J] [GPU: %2.4f J]\" % (energy_post_cpu, energy_post_gpu))\n",
        "print(\"Accuracy: %2.2f %%\"%(post_training_accuracy))\n",
        "print(\"Model Size: %2.2f MB\" % (model_size_quantized),end='\\n\\n')\n",
        "\n",
        "print(\"-----  Quantization-Aware Training Model  -----\")\n",
        "print(\"Latency: %3.0f ms\" % (latency_aware))\n",
        "run_benchmark(saved_model_dir + scripted_aware_model_file, data_loader_test)\n",
        "print(\"Power: expected to be the most power-efficient as it is fine-tuned for quantized hardware\")\n",
        "print(\"Energy: [CPU: %2.4f J] [GPU: %2.4f J]\" % (energy_aware_cpu, energy_aware_gpu))\n",
        "print(\"Accuracy: %2.2f %%\"%(quantization_aware_accuracy))\n",
        "print(\"Model Size: %2.2f MB\" % (model_size_aware),end='\\n\\n')"
      ]
    }
  ],
  "metadata": {
    "colab": {
      "provenance": []
    },
    "kernelspec": {
      "display_name": "Python 3",
      "name": "python3"
    },
    "language_info": {
      "codemirror_mode": {
        "name": "ipython",
        "version": 3
      },
      "file_extension": ".py",
      "mimetype": "text/x-python",
      "name": "python",
      "nbconvert_exporter": "python",
      "pygments_lexer": "ipython3",
      "version": "3.11.5"
    }
  },
  "nbformat": 4,
  "nbformat_minor": 0
}
